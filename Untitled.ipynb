{
 "cells": [
  {
   "cell_type": "code",
   "execution_count": 1,
   "id": "a8d7a219-5585-4d50-bf5e-22390d7c9cd0",
   "metadata": {
    "tags": []
   },
   "outputs": [],
   "source": [
    "import pandas as pd\n",
    "import numpy as np"
   ]
  },
  {
   "cell_type": "code",
   "execution_count": 2,
   "id": "5b2d585e-2a47-4da7-b248-2b9df602e136",
   "metadata": {
    "tags": []
   },
   "outputs": [
    {
     "data": {
      "text/html": [
       "<div>\n",
       "<style scoped>\n",
       "    .dataframe tbody tr th:only-of-type {\n",
       "        vertical-align: middle;\n",
       "    }\n",
       "\n",
       "    .dataframe tbody tr th {\n",
       "        vertical-align: top;\n",
       "    }\n",
       "\n",
       "    .dataframe thead th {\n",
       "        text-align: right;\n",
       "    }\n",
       "</style>\n",
       "<table border=\"1\" class=\"dataframe\">\n",
       "  <thead>\n",
       "    <tr style=\"text-align: right;\">\n",
       "      <th></th>\n",
       "      <th>Make</th>\n",
       "      <th>Model</th>\n",
       "      <th>Vehicle Class</th>\n",
       "      <th>Engine Size(L)</th>\n",
       "      <th>Cylinders</th>\n",
       "      <th>Transmission</th>\n",
       "      <th>Fuel Type</th>\n",
       "      <th>Fuel Consumption City (L/100 km)</th>\n",
       "      <th>Fuel Consumption Hwy (L/100 km)</th>\n",
       "      <th>Fuel Consumption Comb (L/100 km)</th>\n",
       "      <th>Fuel Consumption Comb (mpg)</th>\n",
       "      <th>CO2 Emissions(g/km)</th>\n",
       "    </tr>\n",
       "  </thead>\n",
       "  <tbody>\n",
       "    <tr>\n",
       "      <th>0</th>\n",
       "      <td>ACURA</td>\n",
       "      <td>ILX</td>\n",
       "      <td>COMPACT</td>\n",
       "      <td>2.0</td>\n",
       "      <td>4</td>\n",
       "      <td>AS5</td>\n",
       "      <td>Z</td>\n",
       "      <td>9.9</td>\n",
       "      <td>6.7</td>\n",
       "      <td>8.5</td>\n",
       "      <td>33</td>\n",
       "      <td>196</td>\n",
       "    </tr>\n",
       "    <tr>\n",
       "      <th>1</th>\n",
       "      <td>ACURA</td>\n",
       "      <td>ILX</td>\n",
       "      <td>COMPACT</td>\n",
       "      <td>2.4</td>\n",
       "      <td>4</td>\n",
       "      <td>M6</td>\n",
       "      <td>Z</td>\n",
       "      <td>11.2</td>\n",
       "      <td>7.7</td>\n",
       "      <td>9.6</td>\n",
       "      <td>29</td>\n",
       "      <td>221</td>\n",
       "    </tr>\n",
       "    <tr>\n",
       "      <th>2</th>\n",
       "      <td>ACURA</td>\n",
       "      <td>ILX HYBRID</td>\n",
       "      <td>COMPACT</td>\n",
       "      <td>1.5</td>\n",
       "      <td>4</td>\n",
       "      <td>AV7</td>\n",
       "      <td>Z</td>\n",
       "      <td>6.0</td>\n",
       "      <td>5.8</td>\n",
       "      <td>5.9</td>\n",
       "      <td>48</td>\n",
       "      <td>136</td>\n",
       "    </tr>\n",
       "    <tr>\n",
       "      <th>3</th>\n",
       "      <td>ACURA</td>\n",
       "      <td>MDX 4WD</td>\n",
       "      <td>SUV - SMALL</td>\n",
       "      <td>3.5</td>\n",
       "      <td>6</td>\n",
       "      <td>AS6</td>\n",
       "      <td>Z</td>\n",
       "      <td>12.7</td>\n",
       "      <td>9.1</td>\n",
       "      <td>11.1</td>\n",
       "      <td>25</td>\n",
       "      <td>255</td>\n",
       "    </tr>\n",
       "    <tr>\n",
       "      <th>4</th>\n",
       "      <td>ACURA</td>\n",
       "      <td>RDX AWD</td>\n",
       "      <td>SUV - SMALL</td>\n",
       "      <td>3.5</td>\n",
       "      <td>6</td>\n",
       "      <td>AS6</td>\n",
       "      <td>Z</td>\n",
       "      <td>12.1</td>\n",
       "      <td>8.7</td>\n",
       "      <td>10.6</td>\n",
       "      <td>27</td>\n",
       "      <td>244</td>\n",
       "    </tr>\n",
       "  </tbody>\n",
       "</table>\n",
       "</div>"
      ],
      "text/plain": [
       "    Make       Model Vehicle Class  Engine Size(L)  Cylinders Transmission  \\\n",
       "0  ACURA         ILX       COMPACT             2.0          4          AS5   \n",
       "1  ACURA         ILX       COMPACT             2.4          4           M6   \n",
       "2  ACURA  ILX HYBRID       COMPACT             1.5          4          AV7   \n",
       "3  ACURA     MDX 4WD   SUV - SMALL             3.5          6          AS6   \n",
       "4  ACURA     RDX AWD   SUV - SMALL             3.5          6          AS6   \n",
       "\n",
       "  Fuel Type  Fuel Consumption City (L/100 km)  \\\n",
       "0         Z                               9.9   \n",
       "1         Z                              11.2   \n",
       "2         Z                               6.0   \n",
       "3         Z                              12.7   \n",
       "4         Z                              12.1   \n",
       "\n",
       "   Fuel Consumption Hwy (L/100 km)  Fuel Consumption Comb (L/100 km)  \\\n",
       "0                              6.7                               8.5   \n",
       "1                              7.7                               9.6   \n",
       "2                              5.8                               5.9   \n",
       "3                              9.1                              11.1   \n",
       "4                              8.7                              10.6   \n",
       "\n",
       "   Fuel Consumption Comb (mpg)  CO2 Emissions(g/km)  \n",
       "0                           33                  196  \n",
       "1                           29                  221  \n",
       "2                           48                  136  \n",
       "3                           25                  255  \n",
       "4                           27                  244  "
      ]
     },
     "execution_count": 2,
     "metadata": {},
     "output_type": "execute_result"
    }
   ],
   "source": [
    "df = pd.read_csv('co2.csv')\n",
    "df.head()"
   ]
  },
  {
   "cell_type": "markdown",
   "id": "09bda1c2-3dbe-4089-9474-43e5357365be",
   "metadata": {},
   "source": [
    "# Preprocessing - Zorunlu olanlar"
   ]
  },
  {
   "cell_type": "code",
   "execution_count": 3,
   "id": "fa84b7c3-8f4b-4937-b6d9-a754e3524b30",
   "metadata": {
    "tags": []
   },
   "outputs": [],
   "source": [
    "df.drop(columns=['Model'], inplace=True)"
   ]
  },
  {
   "cell_type": "code",
   "execution_count": 4,
   "id": "03f8bfc6-8ef8-4e44-83ae-c23875730e04",
   "metadata": {
    "tags": []
   },
   "outputs": [
    {
     "data": {
      "text/plain": [
       "0"
      ]
     },
     "execution_count": 4,
     "metadata": {},
     "output_type": "execute_result"
    }
   ],
   "source": [
    "df.isnull().sum().sum()"
   ]
  },
  {
   "cell_type": "code",
   "execution_count": 5,
   "id": "dc1ed91c-8e48-4366-9971-93f9c3fb8ff4",
   "metadata": {
    "tags": []
   },
   "outputs": [
    {
     "data": {
      "text/html": [
       "<div>\n",
       "<style scoped>\n",
       "    .dataframe tbody tr th:only-of-type {\n",
       "        vertical-align: middle;\n",
       "    }\n",
       "\n",
       "    .dataframe tbody tr th {\n",
       "        vertical-align: top;\n",
       "    }\n",
       "\n",
       "    .dataframe thead th {\n",
       "        text-align: right;\n",
       "    }\n",
       "</style>\n",
       "<table border=\"1\" class=\"dataframe\">\n",
       "  <thead>\n",
       "    <tr style=\"text-align: right;\">\n",
       "      <th></th>\n",
       "      <th>count</th>\n",
       "      <th>unique</th>\n",
       "      <th>top</th>\n",
       "      <th>freq</th>\n",
       "    </tr>\n",
       "  </thead>\n",
       "  <tbody>\n",
       "    <tr>\n",
       "      <th>Make</th>\n",
       "      <td>7385</td>\n",
       "      <td>42</td>\n",
       "      <td>FORD</td>\n",
       "      <td>628</td>\n",
       "    </tr>\n",
       "    <tr>\n",
       "      <th>Vehicle Class</th>\n",
       "      <td>7385</td>\n",
       "      <td>16</td>\n",
       "      <td>SUV - SMALL</td>\n",
       "      <td>1217</td>\n",
       "    </tr>\n",
       "    <tr>\n",
       "      <th>Transmission</th>\n",
       "      <td>7385</td>\n",
       "      <td>27</td>\n",
       "      <td>AS6</td>\n",
       "      <td>1324</td>\n",
       "    </tr>\n",
       "    <tr>\n",
       "      <th>Fuel Type</th>\n",
       "      <td>7385</td>\n",
       "      <td>5</td>\n",
       "      <td>X</td>\n",
       "      <td>3637</td>\n",
       "    </tr>\n",
       "  </tbody>\n",
       "</table>\n",
       "</div>"
      ],
      "text/plain": [
       "              count unique          top  freq\n",
       "Make           7385     42         FORD   628\n",
       "Vehicle Class  7385     16  SUV - SMALL  1217\n",
       "Transmission   7385     27          AS6  1324\n",
       "Fuel Type      7385      5            X  3637"
      ]
     },
     "execution_count": 5,
     "metadata": {},
     "output_type": "execute_result"
    }
   ],
   "source": [
    "df.describe(include='object').T"
   ]
  },
  {
   "cell_type": "code",
   "execution_count": 6,
   "id": "b6ca7181-27a3-472d-8cd6-4c9af7ba7230",
   "metadata": {
    "tags": []
   },
   "outputs": [
    {
     "name": "stdout",
     "output_type": "stream",
     "text": [
      "(7385, 10)\n",
      "(7385,)\n"
     ]
    }
   ],
   "source": [
    "target_column = 'CO2 Emissions(g/km)'\n",
    "X = df.drop(columns=target_column)\n",
    "y = df[target_column]\n",
    "\n",
    "print(X.shape)\n",
    "print(y.shape)"
   ]
  },
  {
   "cell_type": "code",
   "execution_count": 8,
   "id": "67e3c85c-0276-4d6a-88e1-4b69c3cd8095",
   "metadata": {
    "tags": []
   },
   "outputs": [
    {
     "data": {
      "text/plain": [
       "(7385, 92)"
      ]
     },
     "execution_count": 8,
     "metadata": {},
     "output_type": "execute_result"
    }
   ],
   "source": [
    "categorical_features = X.select_dtypes(include='object').columns\n",
    "X_encoded = pd.get_dummies(X, columns=categorical_features, prefix=categorical_features, prefix_sep='*', drop_first=True)\n",
    "X_encoded.shape"
   ]
  },
  {
   "cell_type": "code",
   "execution_count": 13,
   "id": "dff357c6-83b6-454d-b0eb-2e4ced9a44bb",
   "metadata": {
    "tags": []
   },
   "outputs": [
    {
     "data": {
      "text/html": [
       "<div>\n",
       "<style scoped>\n",
       "    .dataframe tbody tr th:only-of-type {\n",
       "        vertical-align: middle;\n",
       "    }\n",
       "\n",
       "    .dataframe tbody tr th {\n",
       "        vertical-align: top;\n",
       "    }\n",
       "\n",
       "    .dataframe thead th {\n",
       "        text-align: right;\n",
       "    }\n",
       "</style>\n",
       "<table border=\"1\" class=\"dataframe\">\n",
       "  <thead>\n",
       "    <tr style=\"text-align: right;\">\n",
       "      <th></th>\n",
       "      <th>Engine Size(L)</th>\n",
       "      <th>Cylinders</th>\n",
       "      <th>Fuel Consumption City (L/100 km)</th>\n",
       "      <th>Fuel Consumption Hwy (L/100 km)</th>\n",
       "      <th>Fuel Consumption Comb (L/100 km)</th>\n",
       "      <th>Fuel Consumption Comb (mpg)</th>\n",
       "      <th>Make*ALFA ROMEO</th>\n",
       "      <th>Make*ASTON MARTIN</th>\n",
       "      <th>Make*AUDI</th>\n",
       "      <th>Make*BENTLEY</th>\n",
       "      <th>...</th>\n",
       "      <th>Transmission*AV6</th>\n",
       "      <th>Transmission*AV7</th>\n",
       "      <th>Transmission*AV8</th>\n",
       "      <th>Transmission*M5</th>\n",
       "      <th>Transmission*M6</th>\n",
       "      <th>Transmission*M7</th>\n",
       "      <th>Fuel Type*E</th>\n",
       "      <th>Fuel Type*N</th>\n",
       "      <th>Fuel Type*X</th>\n",
       "      <th>Fuel Type*Z</th>\n",
       "    </tr>\n",
       "  </thead>\n",
       "  <tbody>\n",
       "    <tr>\n",
       "      <th>6286</th>\n",
       "      <td>3.5</td>\n",
       "      <td>6</td>\n",
       "      <td>12.1</td>\n",
       "      <td>8.9</td>\n",
       "      <td>10.7</td>\n",
       "      <td>26</td>\n",
       "      <td>0</td>\n",
       "      <td>0</td>\n",
       "      <td>0</td>\n",
       "      <td>0</td>\n",
       "      <td>...</td>\n",
       "      <td>0</td>\n",
       "      <td>0</td>\n",
       "      <td>0</td>\n",
       "      <td>0</td>\n",
       "      <td>0</td>\n",
       "      <td>0</td>\n",
       "      <td>0</td>\n",
       "      <td>0</td>\n",
       "      <td>1</td>\n",
       "      <td>0</td>\n",
       "    </tr>\n",
       "    <tr>\n",
       "      <th>1844</th>\n",
       "      <td>3.5</td>\n",
       "      <td>6</td>\n",
       "      <td>11.9</td>\n",
       "      <td>8.2</td>\n",
       "      <td>10.2</td>\n",
       "      <td>28</td>\n",
       "      <td>0</td>\n",
       "      <td>0</td>\n",
       "      <td>0</td>\n",
       "      <td>0</td>\n",
       "      <td>...</td>\n",
       "      <td>0</td>\n",
       "      <td>0</td>\n",
       "      <td>0</td>\n",
       "      <td>0</td>\n",
       "      <td>0</td>\n",
       "      <td>0</td>\n",
       "      <td>0</td>\n",
       "      <td>0</td>\n",
       "      <td>0</td>\n",
       "      <td>1</td>\n",
       "    </tr>\n",
       "    <tr>\n",
       "      <th>6434</th>\n",
       "      <td>1.8</td>\n",
       "      <td>4</td>\n",
       "      <td>7.8</td>\n",
       "      <td>5.9</td>\n",
       "      <td>6.9</td>\n",
       "      <td>41</td>\n",
       "      <td>0</td>\n",
       "      <td>0</td>\n",
       "      <td>0</td>\n",
       "      <td>0</td>\n",
       "      <td>...</td>\n",
       "      <td>0</td>\n",
       "      <td>0</td>\n",
       "      <td>0</td>\n",
       "      <td>0</td>\n",
       "      <td>0</td>\n",
       "      <td>0</td>\n",
       "      <td>0</td>\n",
       "      <td>0</td>\n",
       "      <td>1</td>\n",
       "      <td>0</td>\n",
       "    </tr>\n",
       "  </tbody>\n",
       "</table>\n",
       "<p>3 rows × 92 columns</p>\n",
       "</div>"
      ],
      "text/plain": [
       "      Engine Size(L)  Cylinders  Fuel Consumption City (L/100 km)  \\\n",
       "6286             3.5          6                              12.1   \n",
       "1844             3.5          6                              11.9   \n",
       "6434             1.8          4                               7.8   \n",
       "\n",
       "      Fuel Consumption Hwy (L/100 km)  Fuel Consumption Comb (L/100 km)  \\\n",
       "6286                              8.9                              10.7   \n",
       "1844                              8.2                              10.2   \n",
       "6434                              5.9                               6.9   \n",
       "\n",
       "      Fuel Consumption Comb (mpg)  Make*ALFA ROMEO  Make*ASTON MARTIN  \\\n",
       "6286                           26                0                  0   \n",
       "1844                           28                0                  0   \n",
       "6434                           41                0                  0   \n",
       "\n",
       "      Make*AUDI  Make*BENTLEY  ...  Transmission*AV6  Transmission*AV7  \\\n",
       "6286          0             0  ...                 0                 0   \n",
       "1844          0             0  ...                 0                 0   \n",
       "6434          0             0  ...                 0                 0   \n",
       "\n",
       "      Transmission*AV8  Transmission*M5  Transmission*M6  Transmission*M7  \\\n",
       "6286                 0                0                0                0   \n",
       "1844                 0                0                0                0   \n",
       "6434                 0                0                0                0   \n",
       "\n",
       "      Fuel Type*E  Fuel Type*N  Fuel Type*X  Fuel Type*Z  \n",
       "6286            0            0            1            0  \n",
       "1844            0            0            0            1  \n",
       "6434            0            0            1            0  \n",
       "\n",
       "[3 rows x 92 columns]"
      ]
     },
     "execution_count": 13,
     "metadata": {},
     "output_type": "execute_result"
    }
   ],
   "source": [
    "X_encoded.sample(3)"
   ]
  },
  {
   "cell_type": "markdown",
   "id": "78aecd61-2312-458d-b7fa-6bf3bd6f2612",
   "metadata": {
    "tags": []
   },
   "source": [
    "# Train-Test Split"
   ]
  },
  {
   "cell_type": "code",
   "execution_count": 15,
   "id": "6181e93c-30d5-4139-ac99-367e9454facc",
   "metadata": {
    "tags": []
   },
   "outputs": [],
   "source": [
    "from sklearn.model_selection import train_test_split, GridSearchCV, cross_validate\n",
    "from sklearn.preprocessing import StandardScaler"
   ]
  },
  {
   "cell_type": "code",
   "execution_count": 12,
   "id": "1cf190d3-b00d-4b30-b36c-1513cc95a5b5",
   "metadata": {
    "tags": []
   },
   "outputs": [
    {
     "name": "stdout",
     "output_type": "stream",
     "text": [
      "(5908, 92)\n",
      "(5908,)\n",
      "(1477, 92)\n",
      "(1477,)\n"
     ]
    }
   ],
   "source": [
    "X_train, X_test, y_train, y_test = train_test_split(X_encoded, y, test_size=0.2, random_state=42)\n",
    "\n",
    "print(X_train.shape)\n",
    "print(y_train.shape)\n",
    "print(X_test.shape)\n",
    "print(y_test.shape)"
   ]
  },
  {
   "cell_type": "markdown",
   "id": "b2051824-c74a-4e19-9bc3-49220e85356a",
   "metadata": {},
   "source": [
    "# Scaling"
   ]
  },
  {
   "cell_type": "code",
   "execution_count": 16,
   "id": "b7c47c1e-cbdd-4e92-8f7d-b1a8043b4ef7",
   "metadata": {
    "tags": []
   },
   "outputs": [],
   "source": [
    "scaler = StandardScaler()"
   ]
  },
  {
   "cell_type": "code",
   "execution_count": 17,
   "id": "5a230e31-0099-4ac6-a9c7-1583ec01d596",
   "metadata": {
    "tags": []
   },
   "outputs": [],
   "source": [
    "X_train_scaled = scaler.fit_transform(X_train)\n",
    "X_test_scaled =scaler.transform(X_test)"
   ]
  },
  {
   "cell_type": "markdown",
   "id": "29014142-de32-44f7-8801-d234c4827e5e",
   "metadata": {},
   "source": [
    "# model Building"
   ]
  },
  {
   "cell_type": "markdown",
   "id": "636e4446-7d06-40ab-a791-bc4e6595cb4d",
   "metadata": {},
   "source": [
    "## LinearRegression"
   ]
  },
  {
   "cell_type": "code",
   "execution_count": 61,
   "id": "b2d3e50b-6807-4ce3-9598-c88f909a593d",
   "metadata": {
    "tags": []
   },
   "outputs": [],
   "source": [
    "from sklearn.linear_model import LinearRegression, LassoCV, Lasso, RidgeCV\n",
    "from sklearn.metrics import mean_absolute_error, mean_squared_error, r2_score"
   ]
  },
  {
   "cell_type": "code",
   "execution_count": 70,
   "id": "3c07aca1-0aff-442d-8293-767b1be78f87",
   "metadata": {
    "tags": []
   },
   "outputs": [],
   "source": [
    "linear_model = LinearRegression()"
   ]
  },
  {
   "cell_type": "code",
   "execution_count": 71,
   "id": "a9facffe-c2ed-49fc-afa0-0e4512c509ca",
   "metadata": {
    "tags": []
   },
   "outputs": [
    {
     "data": {
      "text/html": [
       "<style>#sk-container-id-2 {color: black;background-color: white;}#sk-container-id-2 pre{padding: 0;}#sk-container-id-2 div.sk-toggleable {background-color: white;}#sk-container-id-2 label.sk-toggleable__label {cursor: pointer;display: block;width: 100%;margin-bottom: 0;padding: 0.3em;box-sizing: border-box;text-align: center;}#sk-container-id-2 label.sk-toggleable__label-arrow:before {content: \"▸\";float: left;margin-right: 0.25em;color: #696969;}#sk-container-id-2 label.sk-toggleable__label-arrow:hover:before {color: black;}#sk-container-id-2 div.sk-estimator:hover label.sk-toggleable__label-arrow:before {color: black;}#sk-container-id-2 div.sk-toggleable__content {max-height: 0;max-width: 0;overflow: hidden;text-align: left;background-color: #f0f8ff;}#sk-container-id-2 div.sk-toggleable__content pre {margin: 0.2em;color: black;border-radius: 0.25em;background-color: #f0f8ff;}#sk-container-id-2 input.sk-toggleable__control:checked~div.sk-toggleable__content {max-height: 200px;max-width: 100%;overflow: auto;}#sk-container-id-2 input.sk-toggleable__control:checked~label.sk-toggleable__label-arrow:before {content: \"▾\";}#sk-container-id-2 div.sk-estimator input.sk-toggleable__control:checked~label.sk-toggleable__label {background-color: #d4ebff;}#sk-container-id-2 div.sk-label input.sk-toggleable__control:checked~label.sk-toggleable__label {background-color: #d4ebff;}#sk-container-id-2 input.sk-hidden--visually {border: 0;clip: rect(1px 1px 1px 1px);clip: rect(1px, 1px, 1px, 1px);height: 1px;margin: -1px;overflow: hidden;padding: 0;position: absolute;width: 1px;}#sk-container-id-2 div.sk-estimator {font-family: monospace;background-color: #f0f8ff;border: 1px dotted black;border-radius: 0.25em;box-sizing: border-box;margin-bottom: 0.5em;}#sk-container-id-2 div.sk-estimator:hover {background-color: #d4ebff;}#sk-container-id-2 div.sk-parallel-item::after {content: \"\";width: 100%;border-bottom: 1px solid gray;flex-grow: 1;}#sk-container-id-2 div.sk-label:hover label.sk-toggleable__label {background-color: #d4ebff;}#sk-container-id-2 div.sk-serial::before {content: \"\";position: absolute;border-left: 1px solid gray;box-sizing: border-box;top: 0;bottom: 0;left: 50%;z-index: 0;}#sk-container-id-2 div.sk-serial {display: flex;flex-direction: column;align-items: center;background-color: white;padding-right: 0.2em;padding-left: 0.2em;position: relative;}#sk-container-id-2 div.sk-item {position: relative;z-index: 1;}#sk-container-id-2 div.sk-parallel {display: flex;align-items: stretch;justify-content: center;background-color: white;position: relative;}#sk-container-id-2 div.sk-item::before, #sk-container-id-2 div.sk-parallel-item::before {content: \"\";position: absolute;border-left: 1px solid gray;box-sizing: border-box;top: 0;bottom: 0;left: 50%;z-index: -1;}#sk-container-id-2 div.sk-parallel-item {display: flex;flex-direction: column;z-index: 1;position: relative;background-color: white;}#sk-container-id-2 div.sk-parallel-item:first-child::after {align-self: flex-end;width: 50%;}#sk-container-id-2 div.sk-parallel-item:last-child::after {align-self: flex-start;width: 50%;}#sk-container-id-2 div.sk-parallel-item:only-child::after {width: 0;}#sk-container-id-2 div.sk-dashed-wrapped {border: 1px dashed gray;margin: 0 0.4em 0.5em 0.4em;box-sizing: border-box;padding-bottom: 0.4em;background-color: white;}#sk-container-id-2 div.sk-label label {font-family: monospace;font-weight: bold;display: inline-block;line-height: 1.2em;}#sk-container-id-2 div.sk-label-container {text-align: center;}#sk-container-id-2 div.sk-container {/* jupyter's `normalize.less` sets `[hidden] { display: none; }` but bootstrap.min.css set `[hidden] { display: none !important; }` so we also need the `!important` here to be able to override the default hidden behavior on the sphinx rendered scikit-learn.org. See: https://github.com/scikit-learn/scikit-learn/issues/21755 */display: inline-block !important;position: relative;}#sk-container-id-2 div.sk-text-repr-fallback {display: none;}</style><div id=\"sk-container-id-2\" class=\"sk-top-container\"><div class=\"sk-text-repr-fallback\"><pre>LinearRegression()</pre><b>In a Jupyter environment, please rerun this cell to show the HTML representation or trust the notebook. <br />On GitHub, the HTML representation is unable to render, please try loading this page with nbviewer.org.</b></div><div class=\"sk-container\" hidden><div class=\"sk-item\"><div class=\"sk-estimator sk-toggleable\"><input class=\"sk-toggleable__control sk-hidden--visually\" id=\"sk-estimator-id-2\" type=\"checkbox\" checked><label for=\"sk-estimator-id-2\" class=\"sk-toggleable__label sk-toggleable__label-arrow\">LinearRegression</label><div class=\"sk-toggleable__content\"><pre>LinearRegression()</pre></div></div></div></div></div>"
      ],
      "text/plain": [
       "LinearRegression()"
      ]
     },
     "execution_count": 71,
     "metadata": {},
     "output_type": "execute_result"
    }
   ],
   "source": [
    "linear_model.fit(X_train_scaled, y_train)"
   ]
  },
  {
   "cell_type": "code",
   "execution_count": 72,
   "id": "77f2b58c-c65e-4c04-b27b-19c10029844d",
   "metadata": {
    "tags": []
   },
   "outputs": [],
   "source": [
    "y_pred = linear_model.predict(X_test_scaled)\n",
    "y_train_pred = linear_model.predict(X_train_scaled)"
   ]
  },
  {
   "cell_type": "code",
   "execution_count": 35,
   "id": "0e865e03-8727-4858-b142-529b5e28a1f6",
   "metadata": {
    "tags": []
   },
   "outputs": [],
   "source": [
    "def train_val(y_train, y_train_pred, y_test, y_pred, model_name):\n",
    "    \n",
    "    scores = {\n",
    "        f'{model_name}_train': {\n",
    "            \"R2\" : r2_score(y_train, y_train_pred),\n",
    "            \"mae\" : mean_absolute_error(y_train, y_train_pred),\n",
    "            \"mse\" : mean_squared_error(y_train, y_train_pred),\n",
    "            \"rmse\" : np.sqrt(mean_squared_error(y_train, y_train_pred))\n",
    "        },\n",
    "        f'{model_name}_test':  {\n",
    "            \"R2\" : r2_score(y_test, y_pred),\n",
    "            \"mae\" : mean_absolute_error(y_test, y_pred),\n",
    "            \"mse\" : mean_squared_error(y_test, y_pred),\n",
    "            \"rmse\" : np.sqrt(mean_squared_error(y_test, y_pred))\n",
    "        }\n",
    "    }\n",
    "    \n",
    "    return pd.DataFrame(scores)"
   ]
  },
  {
   "cell_type": "code",
   "execution_count": 73,
   "id": "327a8bac-f3c1-4231-b226-6de448a1ec55",
   "metadata": {
    "tags": []
   },
   "outputs": [
    {
     "data": {
      "text/html": [
       "<div>\n",
       "<style scoped>\n",
       "    .dataframe tbody tr th:only-of-type {\n",
       "        vertical-align: middle;\n",
       "    }\n",
       "\n",
       "    .dataframe tbody tr th {\n",
       "        vertical-align: top;\n",
       "    }\n",
       "\n",
       "    .dataframe thead th {\n",
       "        text-align: right;\n",
       "    }\n",
       "</style>\n",
       "<table border=\"1\" class=\"dataframe\">\n",
       "  <thead>\n",
       "    <tr style=\"text-align: right;\">\n",
       "      <th></th>\n",
       "      <th>Linear model_train</th>\n",
       "      <th>Linear model_test</th>\n",
       "    </tr>\n",
       "  </thead>\n",
       "  <tbody>\n",
       "    <tr>\n",
       "      <th>R2</th>\n",
       "      <td>0.993863</td>\n",
       "      <td>0.990794</td>\n",
       "    </tr>\n",
       "    <tr>\n",
       "      <th>mae</th>\n",
       "      <td>2.830420</td>\n",
       "      <td>3.104245</td>\n",
       "    </tr>\n",
       "    <tr>\n",
       "      <th>mse</th>\n",
       "      <td>20.980738</td>\n",
       "      <td>31.664477</td>\n",
       "    </tr>\n",
       "    <tr>\n",
       "      <th>rmse</th>\n",
       "      <td>4.580474</td>\n",
       "      <td>5.627120</td>\n",
       "    </tr>\n",
       "  </tbody>\n",
       "</table>\n",
       "</div>"
      ],
      "text/plain": [
       "      Linear model_train  Linear model_test\n",
       "R2              0.993863           0.990794\n",
       "mae             2.830420           3.104245\n",
       "mse            20.980738          31.664477\n",
       "rmse            4.580474           5.627120"
      ]
     },
     "execution_count": 73,
     "metadata": {},
     "output_type": "execute_result"
    }
   ],
   "source": [
    "lm_scores = train_val(y_train, y_train_pred, y_test, y_pred, 'Linear model')\n",
    "lm_scores"
   ]
  },
  {
   "cell_type": "code",
   "execution_count": 74,
   "id": "80c67b3d-39a8-4573-9546-5fd4469ed922",
   "metadata": {
    "tags": []
   },
   "outputs": [
    {
     "data": {
      "text/html": [
       "<div>\n",
       "<style scoped>\n",
       "    .dataframe tbody tr th:only-of-type {\n",
       "        vertical-align: middle;\n",
       "    }\n",
       "\n",
       "    .dataframe tbody tr th {\n",
       "        vertical-align: top;\n",
       "    }\n",
       "\n",
       "    .dataframe thead th {\n",
       "        text-align: right;\n",
       "    }\n",
       "</style>\n",
       "<table border=\"1\" class=\"dataframe\">\n",
       "  <thead>\n",
       "    <tr style=\"text-align: right;\">\n",
       "      <th></th>\n",
       "      <th>fit_time</th>\n",
       "      <th>score_time</th>\n",
       "      <th>test_r2</th>\n",
       "      <th>test_neg_root_mean_squared_error</th>\n",
       "    </tr>\n",
       "  </thead>\n",
       "  <tbody>\n",
       "    <tr>\n",
       "      <th>0</th>\n",
       "      <td>0.015965</td>\n",
       "      <td>0.001504</td>\n",
       "      <td>0.993171</td>\n",
       "      <td>-4.840950</td>\n",
       "    </tr>\n",
       "    <tr>\n",
       "      <th>1</th>\n",
       "      <td>0.019371</td>\n",
       "      <td>0.001993</td>\n",
       "      <td>0.994606</td>\n",
       "      <td>-4.026285</td>\n",
       "    </tr>\n",
       "    <tr>\n",
       "      <th>2</th>\n",
       "      <td>0.015518</td>\n",
       "      <td>0.001505</td>\n",
       "      <td>0.991667</td>\n",
       "      <td>-5.531995</td>\n",
       "    </tr>\n",
       "    <tr>\n",
       "      <th>3</th>\n",
       "      <td>0.016994</td>\n",
       "      <td>0.000999</td>\n",
       "      <td>0.993132</td>\n",
       "      <td>-4.580688</td>\n",
       "    </tr>\n",
       "    <tr>\n",
       "      <th>4</th>\n",
       "      <td>0.013785</td>\n",
       "      <td>0.001371</td>\n",
       "      <td>0.993541</td>\n",
       "      <td>-4.751072</td>\n",
       "    </tr>\n",
       "    <tr>\n",
       "      <th>5</th>\n",
       "      <td>0.017122</td>\n",
       "      <td>0.000998</td>\n",
       "      <td>0.993164</td>\n",
       "      <td>-4.708233</td>\n",
       "    </tr>\n",
       "    <tr>\n",
       "      <th>6</th>\n",
       "      <td>0.013203</td>\n",
       "      <td>0.001000</td>\n",
       "      <td>0.995072</td>\n",
       "      <td>-4.212486</td>\n",
       "    </tr>\n",
       "    <tr>\n",
       "      <th>7</th>\n",
       "      <td>0.015193</td>\n",
       "      <td>0.000505</td>\n",
       "      <td>0.994743</td>\n",
       "      <td>-4.301809</td>\n",
       "    </tr>\n",
       "    <tr>\n",
       "      <th>8</th>\n",
       "      <td>0.016525</td>\n",
       "      <td>0.000999</td>\n",
       "      <td>0.992693</td>\n",
       "      <td>-4.860506</td>\n",
       "    </tr>\n",
       "    <tr>\n",
       "      <th>9</th>\n",
       "      <td>0.015505</td>\n",
       "      <td>0.001503</td>\n",
       "      <td>0.993956</td>\n",
       "      <td>-4.846732</td>\n",
       "    </tr>\n",
       "  </tbody>\n",
       "</table>\n",
       "</div>"
      ],
      "text/plain": [
       "   fit_time  score_time   test_r2  test_neg_root_mean_squared_error\n",
       "0  0.015965    0.001504  0.993171                         -4.840950\n",
       "1  0.019371    0.001993  0.994606                         -4.026285\n",
       "2  0.015518    0.001505  0.991667                         -5.531995\n",
       "3  0.016994    0.000999  0.993132                         -4.580688\n",
       "4  0.013785    0.001371  0.993541                         -4.751072\n",
       "5  0.017122    0.000998  0.993164                         -4.708233\n",
       "6  0.013203    0.001000  0.995072                         -4.212486\n",
       "7  0.015193    0.000505  0.994743                         -4.301809\n",
       "8  0.016525    0.000999  0.992693                         -4.860506\n",
       "9  0.015505    0.001503  0.993956                         -4.846732"
      ]
     },
     "execution_count": 74,
     "metadata": {},
     "output_type": "execute_result"
    }
   ],
   "source": [
    "scoring = ['r2', 'neg_root_mean_squared_error']\n",
    "\n",
    "pd.DataFrame(cross_validate(linear_model, X_train_scaled, y_train, cv=10, scoring=scoring))"
   ]
  },
  {
   "cell_type": "code",
   "execution_count": null,
   "id": "d5f86832-4840-4e45-99ff-08c83f4054dc",
   "metadata": {},
   "outputs": [],
   "source": []
  },
  {
   "cell_type": "code",
   "execution_count": null,
   "id": "c60894f4-04ce-4569-8943-722eb6258242",
   "metadata": {},
   "outputs": [],
   "source": []
  },
  {
   "cell_type": "markdown",
   "id": "559bcfd6-57f7-451a-a6e8-f953c27cefc1",
   "metadata": {},
   "source": [
    "## LassoCV Model"
   ]
  },
  {
   "cell_type": "code",
   "execution_count": 46,
   "id": "db9f89f4-d95b-4f1a-a59b-8242a224de36",
   "metadata": {
    "tags": []
   },
   "outputs": [],
   "source": [
    "alpha_spaces = np.logspace(-3,2,100)"
   ]
  },
  {
   "cell_type": "code",
   "execution_count": 52,
   "id": "3897e9f8-c060-423c-be40-c9233e0ec1de",
   "metadata": {
    "tags": []
   },
   "outputs": [],
   "source": [
    "lasso_cv_model = LassoCV(alphas= alpha_spaces, cv=10, random_state=42, max_iter=10_000)"
   ]
  },
  {
   "cell_type": "code",
   "execution_count": 59,
   "id": "d7acf03a-52ce-4676-9ae9-10dacd1fc915",
   "metadata": {
    "tags": []
   },
   "outputs": [
    {
     "data": {
      "text/html": [
       "<div>\n",
       "<style scoped>\n",
       "    .dataframe tbody tr th:only-of-type {\n",
       "        vertical-align: middle;\n",
       "    }\n",
       "\n",
       "    .dataframe tbody tr th {\n",
       "        vertical-align: top;\n",
       "    }\n",
       "\n",
       "    .dataframe thead th {\n",
       "        text-align: right;\n",
       "    }\n",
       "</style>\n",
       "<table border=\"1\" class=\"dataframe\">\n",
       "  <thead>\n",
       "    <tr style=\"text-align: right;\">\n",
       "      <th></th>\n",
       "      <th>Lasso model_train</th>\n",
       "      <th>Lasso model_test</th>\n",
       "    </tr>\n",
       "  </thead>\n",
       "  <tbody>\n",
       "    <tr>\n",
       "      <th>R2</th>\n",
       "      <td>0.993857</td>\n",
       "      <td>0.990797</td>\n",
       "    </tr>\n",
       "    <tr>\n",
       "      <th>mae</th>\n",
       "      <td>2.828324</td>\n",
       "      <td>3.099226</td>\n",
       "    </tr>\n",
       "    <tr>\n",
       "      <th>mse</th>\n",
       "      <td>21.000114</td>\n",
       "      <td>31.655623</td>\n",
       "    </tr>\n",
       "    <tr>\n",
       "      <th>rmse</th>\n",
       "      <td>4.582588</td>\n",
       "      <td>5.626333</td>\n",
       "    </tr>\n",
       "  </tbody>\n",
       "</table>\n",
       "</div>"
      ],
      "text/plain": [
       "      Lasso model_train  Lasso model_test\n",
       "R2             0.993857          0.990797\n",
       "mae            2.828324          3.099226\n",
       "mse           21.000114         31.655623\n",
       "rmse           4.582588          5.626333"
      ]
     },
     "execution_count": 59,
     "metadata": {},
     "output_type": "execute_result"
    }
   ],
   "source": [
    "lasso_cv_model.fit(X_train_scaled, y_train)\n",
    "y_pred = lasso_cv_model.predict(X_test_scaled)\n",
    "y_train_pred = lasso_cv_model.predict(X_train_scaled)\n",
    "\n",
    "lasso_scores = train_val(y_train, y_train_pred, y_test, y_pred, 'Lasso model')\n",
    "lasso_scores"
   ]
  },
  {
   "cell_type": "code",
   "execution_count": null,
   "id": "4852cb8e-0349-48f2-a0a5-f7264d4b9b81",
   "metadata": {},
   "outputs": [],
   "source": []
  },
  {
   "cell_type": "code",
   "execution_count": null,
   "id": "1dccb547-14e1-49d3-8989-1e6bc5d6d25c",
   "metadata": {},
   "outputs": [],
   "source": []
  },
  {
   "cell_type": "markdown",
   "id": "a66e1f80-22bd-4018-b02b-0c7d0a883eb1",
   "metadata": {
    "tags": []
   },
   "source": [
    "## RidgeCv"
   ]
  },
  {
   "cell_type": "code",
   "execution_count": 63,
   "id": "7364ebb2-1d63-4f90-a4e9-960433176074",
   "metadata": {
    "tags": []
   },
   "outputs": [],
   "source": [
    "ridge_cv_model = RidgeCV(alphas= alpha_spaces, cv=10)"
   ]
  },
  {
   "cell_type": "code",
   "execution_count": 64,
   "id": "75c743f5-e742-47a4-95ee-ce6f0bf569c1",
   "metadata": {
    "tags": []
   },
   "outputs": [
    {
     "data": {
      "text/html": [
       "<div>\n",
       "<style scoped>\n",
       "    .dataframe tbody tr th:only-of-type {\n",
       "        vertical-align: middle;\n",
       "    }\n",
       "\n",
       "    .dataframe tbody tr th {\n",
       "        vertical-align: top;\n",
       "    }\n",
       "\n",
       "    .dataframe thead th {\n",
       "        text-align: right;\n",
       "    }\n",
       "</style>\n",
       "<table border=\"1\" class=\"dataframe\">\n",
       "  <thead>\n",
       "    <tr style=\"text-align: right;\">\n",
       "      <th></th>\n",
       "      <th>ridge model_train</th>\n",
       "      <th>ridge model_test</th>\n",
       "    </tr>\n",
       "  </thead>\n",
       "  <tbody>\n",
       "    <tr>\n",
       "      <th>R2</th>\n",
       "      <td>0.993862</td>\n",
       "      <td>0.990805</td>\n",
       "    </tr>\n",
       "    <tr>\n",
       "      <th>mae</th>\n",
       "      <td>2.832782</td>\n",
       "      <td>3.105870</td>\n",
       "    </tr>\n",
       "    <tr>\n",
       "      <th>mse</th>\n",
       "      <td>20.981672</td>\n",
       "      <td>31.628916</td>\n",
       "    </tr>\n",
       "    <tr>\n",
       "      <th>rmse</th>\n",
       "      <td>4.580575</td>\n",
       "      <td>5.623959</td>\n",
       "    </tr>\n",
       "  </tbody>\n",
       "</table>\n",
       "</div>"
      ],
      "text/plain": [
       "      ridge model_train  ridge model_test\n",
       "R2             0.993862          0.990805\n",
       "mae            2.832782          3.105870\n",
       "mse           20.981672         31.628916\n",
       "rmse           4.580575          5.623959"
      ]
     },
     "execution_count": 64,
     "metadata": {},
     "output_type": "execute_result"
    }
   ],
   "source": [
    "ridge_cv_model.fit(X_train_scaled, y_train)\n",
    "y_pred = ridge_cv_model.predict(X_test_scaled)\n",
    "y_train_pred = ridge_cv_model.predict(X_train_scaled)\n",
    "\n",
    "ridge_scores = train_val(y_train, y_train_pred, y_test, y_pred, 'ridge model')\n",
    "ridge_scores"
   ]
  },
  {
   "cell_type": "code",
   "execution_count": 87,
   "id": "f649a066-9bcf-4239-baf1-b8dcc4e3d648",
   "metadata": {
    "tags": []
   },
   "outputs": [
    {
     "data": {
      "text/plain": [
       "92"
      ]
     },
     "execution_count": 87,
     "metadata": {},
     "output_type": "execute_result"
    }
   ],
   "source": [
    "len(X_encoded.columns)"
   ]
  },
  {
   "cell_type": "code",
   "execution_count": 88,
   "id": "bc9128bf-c35c-4722-a4c0-e19295081d4b",
   "metadata": {
    "tags": []
   },
   "outputs": [
    {
     "data": {
      "text/plain": [
       "92"
      ]
     },
     "execution_count": 88,
     "metadata": {},
     "output_type": "execute_result"
    }
   ],
   "source": [
    "len(ridge_cv_model.coef_)"
   ]
  },
  {
   "cell_type": "code",
   "execution_count": 84,
   "id": "add4a39a-64b2-4339-9b71-aa24ec1ab8f9",
   "metadata": {
    "tags": []
   },
   "outputs": [
    {
     "data": {
      "text/html": [
       "<div>\n",
       "<style scoped>\n",
       "    .dataframe tbody tr th:only-of-type {\n",
       "        vertical-align: middle;\n",
       "    }\n",
       "\n",
       "    .dataframe tbody tr th {\n",
       "        vertical-align: top;\n",
       "    }\n",
       "\n",
       "    .dataframe thead th {\n",
       "        text-align: right;\n",
       "    }\n",
       "</style>\n",
       "<table border=\"1\" class=\"dataframe\">\n",
       "  <thead>\n",
       "    <tr style=\"text-align: right;\">\n",
       "      <th></th>\n",
       "      <th>Feature</th>\n",
       "      <th>Importance</th>\n",
       "    </tr>\n",
       "  </thead>\n",
       "  <tbody>\n",
       "    <tr>\n",
       "      <th>88</th>\n",
       "      <td>Fuel Type*E</td>\n",
       "      <td>29.869361</td>\n",
       "    </tr>\n",
       "    <tr>\n",
       "      <th>2</th>\n",
       "      <td>Fuel Consumption City (L/100 km)</td>\n",
       "      <td>22.743763</td>\n",
       "    </tr>\n",
       "    <tr>\n",
       "      <th>4</th>\n",
       "      <td>Fuel Consumption Comb (L/100 km)</td>\n",
       "      <td>21.048629</td>\n",
       "    </tr>\n",
       "    <tr>\n",
       "      <th>90</th>\n",
       "      <td>Fuel Type*X</td>\n",
       "      <td>15.217515</td>\n",
       "    </tr>\n",
       "    <tr>\n",
       "      <th>91</th>\n",
       "      <td>Fuel Type*Z</td>\n",
       "      <td>14.496396</td>\n",
       "    </tr>\n",
       "    <tr>\n",
       "      <th>3</th>\n",
       "      <td>Fuel Consumption Hwy (L/100 km)</td>\n",
       "      <td>13.331719</td>\n",
       "    </tr>\n",
       "    <tr>\n",
       "      <th>5</th>\n",
       "      <td>Fuel Consumption Comb (mpg)</td>\n",
       "      <td>6.675580</td>\n",
       "    </tr>\n",
       "    <tr>\n",
       "      <th>1</th>\n",
       "      <td>Cylinders</td>\n",
       "      <td>1.589904</td>\n",
       "    </tr>\n",
       "    <tr>\n",
       "      <th>18</th>\n",
       "      <td>Make*FORD</td>\n",
       "      <td>1.552733</td>\n",
       "    </tr>\n",
       "    <tr>\n",
       "      <th>14</th>\n",
       "      <td>Make*CHEVROLET</td>\n",
       "      <td>1.156187</td>\n",
       "    </tr>\n",
       "  </tbody>\n",
       "</table>\n",
       "</div>"
      ],
      "text/plain": [
       "                             Feature  Importance\n",
       "88                       Fuel Type*E   29.869361\n",
       "2   Fuel Consumption City (L/100 km)   22.743763\n",
       "4   Fuel Consumption Comb (L/100 km)   21.048629\n",
       "90                       Fuel Type*X   15.217515\n",
       "91                       Fuel Type*Z   14.496396\n",
       "3    Fuel Consumption Hwy (L/100 km)   13.331719\n",
       "5        Fuel Consumption Comb (mpg)    6.675580\n",
       "1                          Cylinders    1.589904\n",
       "18                         Make*FORD    1.552733\n",
       "14                    Make*CHEVROLET    1.156187"
      ]
     },
     "execution_count": 84,
     "metadata": {},
     "output_type": "execute_result"
    }
   ],
   "source": [
    "coefficients = np.abs(ridge_cv_model.coef_)\n",
    "\n",
    "# Feature importance dataframe'i oluşturun\n",
    "feature_importance_df = pd.DataFrame({'Feature': X_encoded.columns, 'Importance': coefficients})\n",
    "\n",
    "# Önem sırasına göre sıralayın\n",
    "feature_importance_df = feature_importance_df.sort_values(by='Importance', ascending=False)\n",
    "\n",
    "# Sonucu görüntüleyin\n",
    "feature_importance_df.head(10)"
   ]
  },
  {
   "cell_type": "markdown",
   "id": "90054062-6129-48ad-96a2-ac90e8948db1",
   "metadata": {},
   "source": [
    "# Feature Selection\n",
    "1. Fuel Type\n",
    "2. fuel Consumption (City)"
   ]
  },
  {
   "cell_type": "code",
   "execution_count": null,
   "id": "8a1116f4-80d6-4b2c-a0d7-b6c0f8cd5824",
   "metadata": {},
   "outputs": [],
   "source": []
  }
 ],
 "metadata": {
  "kernelspec": {
   "display_name": "Python 3 (ipykernel)",
   "language": "python",
   "name": "python3"
  },
  "language_info": {
   "codemirror_mode": {
    "name": "ipython",
    "version": 3
   },
   "file_extension": ".py",
   "mimetype": "text/x-python",
   "name": "python",
   "nbconvert_exporter": "python",
   "pygments_lexer": "ipython3",
   "version": "3.10.8"
  }
 },
 "nbformat": 4,
 "nbformat_minor": 5
}
